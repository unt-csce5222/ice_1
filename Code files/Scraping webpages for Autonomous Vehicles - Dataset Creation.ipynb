{
 "cells": [
  {
   "cell_type": "markdown",
   "id": "c2722e7d",
   "metadata": {},
   "source": [
    "#### Extract Autonomous Cars data"
   ]
  },
  {
   "cell_type": "code",
   "execution_count": 32,
   "id": "ce0ba5c2",
   "metadata": {},
   "outputs": [],
   "source": [
    "# import libraries\n",
    "\n",
    "from GoogleNews import GoogleNews\n",
    "from newspaper import Article\n",
    "from newspaper import Config\n",
    "import pandas as pd\n",
    "import nltk"
   ]
  },
  {
   "cell_type": "code",
   "execution_count": 33,
   "id": "cd06b119",
   "metadata": {},
   "outputs": [],
   "source": [
    "# configuring browser\n",
    "\n",
    "user_agent = 'Mozilla/5.0 (Macintosh; Intel Mac OS X 10_15_7) AppleWebKit/537.36 (KHTML, like Gecko) Chrome/50.0.2661.102 Safari/537.36'\n",
    "config = Config()\n",
    "config.browser_user_agent = user_agent\n"
   ]
  },
  {
   "cell_type": "code",
   "execution_count": 34,
   "id": "151d9364",
   "metadata": {},
   "outputs": [],
   "source": [
    "# searching the autonomous articles\n",
    "\n",
    "googlenews=GoogleNews(start='01/01/2010',end='04/09/2021')\n",
    "googlenews.search('Autonomous Cars')\n",
    "result=googlenews.result()\n",
    "df=pd.DataFrame(result)"
   ]
  },
  {
   "cell_type": "code",
   "execution_count": 35,
   "id": "80fd0ee8",
   "metadata": {
    "scrolled": true
   },
   "outputs": [],
   "source": [
    "# fetching the articles \n",
    "\n",
    "for i in range(2,29):\n",
    "    googlenews.getpage(i)\n",
    "    result=googlenews.result()\n",
    "    df=pd.DataFrame(result)"
   ]
  },
  {
   "cell_type": "code",
   "execution_count": 46,
   "id": "79563ea9",
   "metadata": {},
   "outputs": [
    {
     "name": "stdout",
     "output_type": "stream",
     "text": [
      "<class 'pandas.core.frame.DataFrame'>\n",
      "RangeIndex: 280 entries, 0 to 279\n",
      "Data columns (total 7 columns):\n",
      " #   Column    Non-Null Count  Dtype         \n",
      "---  ------    --------------  -----         \n",
      " 0   title     280 non-null    object        \n",
      " 1   media     280 non-null    object        \n",
      " 2   date      280 non-null    object        \n",
      " 3   datetime  280 non-null    datetime64[ns]\n",
      " 4   desc      280 non-null    object        \n",
      " 5   link      280 non-null    object        \n",
      " 6   img       280 non-null    object        \n",
      "dtypes: datetime64[ns](1), object(6)\n",
      "memory usage: 15.4+ KB\n"
     ]
    }
   ],
   "source": [
    "# Get the dataframe info\n",
    "df.info()"
   ]
  },
  {
   "cell_type": "code",
   "execution_count": 45,
   "id": "e3773077",
   "metadata": {},
   "outputs": [
    {
     "name": "stdout",
     "output_type": "stream",
     "text": [
      "117\n",
      "199\n",
      "211\n",
      "214\n",
      "227\n",
      "234\n",
      "241\n",
      "247\n",
      "257\n",
      "258\n",
      "269\n",
      "278\n"
     ]
    }
   ],
   "source": [
    "# getting the full article and storing in excel, whenever there is an issue accessing the article - log the index, ignore and continue.\n",
    "lst = []\n",
    "for ind in df.index:\n",
    "    d={}\n",
    "    article = Article(df['link'][ind],config=config)\n",
    "    article.download()\n",
    "    try:\n",
    "        article.parse()\n",
    "    except:\n",
    "        print(ind)\n",
    "        continue\n",
    "    article.nlp()\n",
    "    d['Date']=df['date'][ind]\n",
    "    d['Media']=df['media'][ind]\n",
    "    d['Title']=article.title\n",
    "    d['Article']=article.text\n",
    "    d['Summary']=article.summary\n",
    "    lst.append(d)\n",
    "news_df=pd.DataFrame(lst)\n",
    "news_df.to_excel(\"articles.xlsx\")"
   ]
  },
  {
   "cell_type": "code",
   "execution_count": 50,
   "id": "9ab0b69f",
   "metadata": {},
   "outputs": [],
   "source": [
    "news_df['Category'] = 'Autonomous Cars'"
   ]
  },
  {
   "cell_type": "code",
   "execution_count": 51,
   "id": "a0b94431",
   "metadata": {
    "scrolled": true
   },
   "outputs": [
    {
     "data": {
      "text/html": [
       "<div>\n",
       "<style scoped>\n",
       "    .dataframe tbody tr th:only-of-type {\n",
       "        vertical-align: middle;\n",
       "    }\n",
       "\n",
       "    .dataframe tbody tr th {\n",
       "        vertical-align: top;\n",
       "    }\n",
       "\n",
       "    .dataframe thead th {\n",
       "        text-align: right;\n",
       "    }\n",
       "</style>\n",
       "<table border=\"1\" class=\"dataframe\">\n",
       "  <thead>\n",
       "    <tr style=\"text-align: right;\">\n",
       "      <th></th>\n",
       "      <th>Date</th>\n",
       "      <th>Media</th>\n",
       "      <th>Title</th>\n",
       "      <th>Article</th>\n",
       "      <th>Summary</th>\n",
       "      <th>Category</th>\n",
       "    </tr>\n",
       "  </thead>\n",
       "  <tbody>\n",
       "    <tr>\n",
       "      <th>0</th>\n",
       "      <td>Mar 23, 2018</td>\n",
       "      <td>The New York Times</td>\n",
       "      <td>Uber’s Self-Driving Cars Were Struggling Befor...</td>\n",
       "      <td>The Tempe Police Department said it was invest...</td>\n",
       "      <td>We continue to assist investigators in any way...</td>\n",
       "      <td>Autonomous Cars</td>\n",
       "    </tr>\n",
       "    <tr>\n",
       "      <th>1</th>\n",
       "      <td>th · Mar 20, 2018</td>\n",
       "      <td>The Atlantic</td>\n",
       "      <td>Self-Driving Cars Still Don't Know How to See</td>\n",
       "      <td>On Sunday, the inevitable happened: An autonom...</td>\n",
       "      <td>Cars don’t see wellAutonomous cars don’t track...</td>\n",
       "      <td>Autonomous Cars</td>\n",
       "    </tr>\n",
       "    <tr>\n",
       "      <th>2</th>\n",
       "      <td>Mar 21, 2018</td>\n",
       "      <td>Pew Research Center</td>\n",
       "      <td>Americans had concerns about self-driving cars...</td>\n",
       "      <td>Even before a driverless Uber vehicle struck a...</td>\n",
       "      <td>The accident in Tempe, Arizona, was believed t...</td>\n",
       "      <td>Autonomous Cars</td>\n",
       "    </tr>\n",
       "    <tr>\n",
       "      <th>3</th>\n",
       "      <td>Mar 19, 2018</td>\n",
       "      <td>The New York Times</td>\n",
       "      <td>How Driverless Cars See the World Around Them</td>\n",
       "      <td>On Sunday night, a woman died after she was hi...</td>\n",
       "      <td>On Sunday night, a woman died after she was hi...</td>\n",
       "      <td>Autonomous Cars</td>\n",
       "    </tr>\n",
       "    <tr>\n",
       "      <th>4</th>\n",
       "      <td>th · Mar 19, 2018</td>\n",
       "      <td>TechCrunch</td>\n",
       "      <td>Here’s how Uber’s self-driving cars are suppos...</td>\n",
       "      <td>A self-driving vehicle made by Uber has struck...</td>\n",
       "      <td>Something unexpectedly entering the vehicle’s ...</td>\n",
       "      <td>Autonomous Cars</td>\n",
       "    </tr>\n",
       "  </tbody>\n",
       "</table>\n",
       "</div>"
      ],
      "text/plain": [
       "                Date                Media  \\\n",
       "0       Mar 23, 2018   The New York Times   \n",
       "1  th · Mar 20, 2018         The Atlantic   \n",
       "2       Mar 21, 2018  Pew Research Center   \n",
       "3       Mar 19, 2018   The New York Times   \n",
       "4  th · Mar 19, 2018           TechCrunch   \n",
       "\n",
       "                                               Title  \\\n",
       "0  Uber’s Self-Driving Cars Were Struggling Befor...   \n",
       "1      Self-Driving Cars Still Don't Know How to See   \n",
       "2  Americans had concerns about self-driving cars...   \n",
       "3      How Driverless Cars See the World Around Them   \n",
       "4  Here’s how Uber’s self-driving cars are suppos...   \n",
       "\n",
       "                                             Article  \\\n",
       "0  The Tempe Police Department said it was invest...   \n",
       "1  On Sunday, the inevitable happened: An autonom...   \n",
       "2  Even before a driverless Uber vehicle struck a...   \n",
       "3  On Sunday night, a woman died after she was hi...   \n",
       "4  A self-driving vehicle made by Uber has struck...   \n",
       "\n",
       "                                             Summary         Category  \n",
       "0  We continue to assist investigators in any way...  Autonomous Cars  \n",
       "1  Cars don’t see wellAutonomous cars don’t track...  Autonomous Cars  \n",
       "2  The accident in Tempe, Arizona, was believed t...  Autonomous Cars  \n",
       "3  On Sunday night, a woman died after she was hi...  Autonomous Cars  \n",
       "4  Something unexpectedly entering the vehicle’s ...  Autonomous Cars  "
      ]
     },
     "execution_count": 51,
     "metadata": {},
     "output_type": "execute_result"
    }
   ],
   "source": [
    "news_df.head()"
   ]
  },
  {
   "cell_type": "code",
   "execution_count": 48,
   "id": "bed7aa10",
   "metadata": {},
   "outputs": [],
   "source": [
    "# read dataset from article\n",
    "\n",
    "df_bbc = pd.read_csv('/Users/nvvankad/Documents/new_laptop/Personal/Masters/csce 5222 Feature Engineering/Latest-News-Classifier-master/0. Latest News Classifier/01. Dataset Creation/News_dataset.csv', sep=';')"
   ]
  },
  {
   "cell_type": "code",
   "execution_count": 52,
   "id": "f3db5ac4",
   "metadata": {},
   "outputs": [
    {
     "data": {
      "text/html": [
       "<div>\n",
       "<style scoped>\n",
       "    .dataframe tbody tr th:only-of-type {\n",
       "        vertical-align: middle;\n",
       "    }\n",
       "\n",
       "    .dataframe tbody tr th {\n",
       "        vertical-align: top;\n",
       "    }\n",
       "\n",
       "    .dataframe thead th {\n",
       "        text-align: right;\n",
       "    }\n",
       "</style>\n",
       "<table border=\"1\" class=\"dataframe\">\n",
       "  <thead>\n",
       "    <tr style=\"text-align: right;\">\n",
       "      <th></th>\n",
       "      <th>File_Name</th>\n",
       "      <th>Content</th>\n",
       "      <th>Category</th>\n",
       "      <th>Complete_Filename</th>\n",
       "    </tr>\n",
       "  </thead>\n",
       "  <tbody>\n",
       "    <tr>\n",
       "      <th>0</th>\n",
       "      <td>001.txt</td>\n",
       "      <td>Ad sales boost Time Warner profit\\n\\nQuarterly...</td>\n",
       "      <td>business</td>\n",
       "      <td>001.txt-business</td>\n",
       "    </tr>\n",
       "    <tr>\n",
       "      <th>1</th>\n",
       "      <td>002.txt</td>\n",
       "      <td>Dollar gains on Greenspan speech\\n\\nThe dollar...</td>\n",
       "      <td>business</td>\n",
       "      <td>002.txt-business</td>\n",
       "    </tr>\n",
       "    <tr>\n",
       "      <th>2</th>\n",
       "      <td>003.txt</td>\n",
       "      <td>Yukos unit buyer faces loan claim\\n\\nThe owner...</td>\n",
       "      <td>business</td>\n",
       "      <td>003.txt-business</td>\n",
       "    </tr>\n",
       "    <tr>\n",
       "      <th>3</th>\n",
       "      <td>004.txt</td>\n",
       "      <td>High fuel prices hit BA's profits\\n\\nBritish A...</td>\n",
       "      <td>business</td>\n",
       "      <td>004.txt-business</td>\n",
       "    </tr>\n",
       "    <tr>\n",
       "      <th>4</th>\n",
       "      <td>005.txt</td>\n",
       "      <td>Pernod takeover talk lifts Domecq\\n\\nShares in...</td>\n",
       "      <td>business</td>\n",
       "      <td>005.txt-business</td>\n",
       "    </tr>\n",
       "  </tbody>\n",
       "</table>\n",
       "</div>"
      ],
      "text/plain": [
       "  File_Name                                            Content  Category  \\\n",
       "0   001.txt  Ad sales boost Time Warner profit\\n\\nQuarterly...  business   \n",
       "1   002.txt  Dollar gains on Greenspan speech\\n\\nThe dollar...  business   \n",
       "2   003.txt  Yukos unit buyer faces loan claim\\n\\nThe owner...  business   \n",
       "3   004.txt  High fuel prices hit BA's profits\\n\\nBritish A...  business   \n",
       "4   005.txt  Pernod takeover talk lifts Domecq\\n\\nShares in...  business   \n",
       "\n",
       "  Complete_Filename  \n",
       "0  001.txt-business  \n",
       "1  002.txt-business  \n",
       "2  003.txt-business  \n",
       "3  004.txt-business  \n",
       "4  005.txt-business  "
      ]
     },
     "execution_count": 52,
     "metadata": {},
     "output_type": "execute_result"
    }
   ],
   "source": [
    "df_bbc.head()"
   ]
  },
  {
   "cell_type": "code",
   "execution_count": 65,
   "id": "b2387f9d",
   "metadata": {},
   "outputs": [
    {
     "name": "stderr",
     "output_type": "stream",
     "text": [
      "/Users/nvvankad/Documents/new_laptop/Personal/Masters/csce 5222 Feature Engineering/ICE_Assignment1_NagaSumanthVankadari/ice1_assignment_venv/lib/python3.8/site-packages/pandas/core/frame.py:5034: SettingWithCopyWarning: \n",
      "A value is trying to be set on a copy of a slice from a DataFrame\n",
      "\n",
      "See the caveats in the documentation: https://pandas.pydata.org/pandas-docs/stable/user_guide/indexing.html#returning-a-view-versus-a-copy\n",
      "  return super().rename(\n"
     ]
    }
   ],
   "source": [
    "df_auto = news_df[['Article','Summary','Category']]\n",
    "df_auto.rename(columns = {'Article':'Content'},inplace = True)"
   ]
  },
  {
   "cell_type": "code",
   "execution_count": 69,
   "id": "94069f65",
   "metadata": {},
   "outputs": [
    {
     "data": {
      "text/html": [
       "<div>\n",
       "<style scoped>\n",
       "    .dataframe tbody tr th:only-of-type {\n",
       "        vertical-align: middle;\n",
       "    }\n",
       "\n",
       "    .dataframe tbody tr th {\n",
       "        vertical-align: top;\n",
       "    }\n",
       "\n",
       "    .dataframe thead th {\n",
       "        text-align: right;\n",
       "    }\n",
       "</style>\n",
       "<table border=\"1\" class=\"dataframe\">\n",
       "  <thead>\n",
       "    <tr style=\"text-align: right;\">\n",
       "      <th></th>\n",
       "      <th>Content</th>\n",
       "      <th>Summary</th>\n",
       "      <th>Category</th>\n",
       "    </tr>\n",
       "  </thead>\n",
       "  <tbody>\n",
       "    <tr>\n",
       "      <th>0</th>\n",
       "      <td>The Tempe Police Department said it was invest...</td>\n",
       "      <td>We continue to assist investigators in any way...</td>\n",
       "      <td>Autonomous Cars</td>\n",
       "    </tr>\n",
       "    <tr>\n",
       "      <th>1</th>\n",
       "      <td>On Sunday, the inevitable happened: An autonom...</td>\n",
       "      <td>Cars don’t see wellAutonomous cars don’t track...</td>\n",
       "      <td>Autonomous Cars</td>\n",
       "    </tr>\n",
       "    <tr>\n",
       "      <th>2</th>\n",
       "      <td>Even before a driverless Uber vehicle struck a...</td>\n",
       "      <td>The accident in Tempe, Arizona, was believed t...</td>\n",
       "      <td>Autonomous Cars</td>\n",
       "    </tr>\n",
       "    <tr>\n",
       "      <th>3</th>\n",
       "      <td>On Sunday night, a woman died after she was hi...</td>\n",
       "      <td>On Sunday night, a woman died after she was hi...</td>\n",
       "      <td>Autonomous Cars</td>\n",
       "    </tr>\n",
       "    <tr>\n",
       "      <th>4</th>\n",
       "      <td>A self-driving vehicle made by Uber has struck...</td>\n",
       "      <td>Something unexpectedly entering the vehicle’s ...</td>\n",
       "      <td>Autonomous Cars</td>\n",
       "    </tr>\n",
       "  </tbody>\n",
       "</table>\n",
       "</div>"
      ],
      "text/plain": [
       "                                             Content  \\\n",
       "0  The Tempe Police Department said it was invest...   \n",
       "1  On Sunday, the inevitable happened: An autonom...   \n",
       "2  Even before a driverless Uber vehicle struck a...   \n",
       "3  On Sunday night, a woman died after she was hi...   \n",
       "4  A self-driving vehicle made by Uber has struck...   \n",
       "\n",
       "                                             Summary         Category  \n",
       "0  We continue to assist investigators in any way...  Autonomous Cars  \n",
       "1  Cars don’t see wellAutonomous cars don’t track...  Autonomous Cars  \n",
       "2  The accident in Tempe, Arizona, was believed t...  Autonomous Cars  \n",
       "3  On Sunday night, a woman died after she was hi...  Autonomous Cars  \n",
       "4  Something unexpectedly entering the vehicle’s ...  Autonomous Cars  "
      ]
     },
     "execution_count": 69,
     "metadata": {},
     "output_type": "execute_result"
    }
   ],
   "source": [
    "df_auto.head()"
   ]
  },
  {
   "cell_type": "code",
   "execution_count": 70,
   "id": "fe9e18bf",
   "metadata": {},
   "outputs": [],
   "source": [
    "# removing the tech category from article dataset\n",
    "df_bbc = df_bbc[df_bbc['Category'] != 'tech'].reset_index(drop = True)"
   ]
  },
  {
   "cell_type": "code",
   "execution_count": 71,
   "id": "25cac412",
   "metadata": {},
   "outputs": [],
   "source": [
    "# concatenating bbc with autonomous articles\n",
    "frames = [df_auto,df_bbc]\n",
    "df_final_data = pd.DataFrame(pd.concat(frames,ignore_index = True))"
   ]
  },
  {
   "cell_type": "code",
   "execution_count": 72,
   "id": "07773f7e",
   "metadata": {},
   "outputs": [],
   "source": [
    "df_final_data.to_excel(\"final_articles.xlsx\")"
   ]
  },
  {
   "cell_type": "code",
   "execution_count": 74,
   "id": "6edb2648",
   "metadata": {},
   "outputs": [],
   "source": [
    "# saving the dataframe to csv\n",
    "df_final_news = df_final_data.to_csv('/Users/nvvankad/Documents/new_laptop/Personal/Masters/csce 5222 Feature Engineering\\extract_dataset.csv')"
   ]
  }
 ],
 "metadata": {
  "kernelspec": {
   "display_name": "Python 3 (ipykernel)",
   "language": "python",
   "name": "python3"
  },
  "language_info": {
   "codemirror_mode": {
    "name": "ipython",
    "version": 3
   },
   "file_extension": ".py",
   "mimetype": "text/x-python",
   "name": "python",
   "nbconvert_exporter": "python",
   "pygments_lexer": "ipython3",
   "version": "3.8.8"
  }
 },
 "nbformat": 4,
 "nbformat_minor": 5
}
